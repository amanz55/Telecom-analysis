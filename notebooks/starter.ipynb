{
 "cells": [
  {
   "cell_type": "code",
   "execution_count": 11,
   "metadata": {},
   "outputs": [
    {
     "name": "stdout",
     "output_type": "stream",
     "text": [
      ">>>CREATE DATABASE\n"
     ]
    }
   ],
   "source": [
    "from sqlalchemy import create_engine\n",
    "from sqlalchemy_utils import database_exists, create_database\n",
    "from sqlalchemy import Table,MetaData,Column\n",
    "from sqlalchemy import Integer,String,Text,ForeignKey\n",
    "# for postgreSQL database credentials can be written as\n",
    "user = 'postgres'\n",
    "password = '368545'\n",
    "host = 'localhost'\n",
    "port = '5432'\n",
    "database = 'testing_db'\n",
    "connection_str = f'postgresql+psycopg2://{user}:{password}@{host}:{port}/{database}'\n",
    "engine = create_engine(connection_str)\n",
    "\n",
    "meta_obj = MetaData()\n",
    "\n",
    "users_table = Table(\n",
    "    \"users\",\n",
    "    meta_obj,\n",
    "    Column(\"id\",Integer,primary_key=True),\n",
    "    Column(\"name\",String(25),nullable=False),\n",
    "    Column(\"fullname\",Text)\n",
    ")\n",
    "\n",
    "comments_table = Table(\n",
    "    \"comments\",\n",
    "    meta_obj,\n",
    "    Column(\"id\",Integer,primary_key=True),\n",
    "    Column(\"comment\",Text,nullable=False),\n",
    "    Column(\"user_id\",ForeignKey(\"users.id\"))\n",
    ")\n",
    "\n",
    "print(\">>>CREATE DATABASE\")\n",
    "meta_obj.create_all(bind=engine)"
   ]
  },
  {
   "cell_type": "code",
   "execution_count": 12,
   "metadata": {},
   "outputs": [],
   "source": [
    "from sqlalchemy import insert\n",
    "\n",
    "statement = insert(users_table)\n",
    "\n",
    "with engine.connect() as conn:\n",
    "    conn.execute(statement,[\n",
    "        {'name':\"Joe\",\"fullname\":\"Joe Biden\"},\n",
    "        {'name':\"Sponge\",\"fullname\":\"Sponge Bob\"}\n",
    "    ])\n",
    "    conn.commit()"
   ]
  },
  {
   "cell_type": "code",
   "execution_count": 13,
   "metadata": {},
   "outputs": [
    {
     "name": "stdout",
     "output_type": "stream",
     "text": [
      "<Username= Joe fullname=Joe Biden>\n"
     ]
    }
   ],
   "source": [
    "from sqlalchemy import select\n",
    "\n",
    "statement =  select(users_table).where(users_table.c.name == \"Joe\")\n",
    "\n",
    "with engine.connect() as conn:\n",
    "    result = conn.execute(statement)\n",
    "\n",
    "    for row in result:\n",
    "        print(f\"<Username= {row.name} fullname={row.fullname}>\")\n"
   ]
  },
  {
   "cell_type": "code",
   "execution_count": 14,
   "metadata": {},
   "outputs": [],
   "source": [
    "from sqlalchemy import update\n",
    "\n",
    "statement = update(users_table).where(\n",
    "    users_table.c.name == \"Joe\"\n",
    ").values(name=\"Jerry\")\n",
    "\n",
    "\n",
    "with engine.connect() as conn:\n",
    "    conn.execute(statement)\n",
    "    conn.commit()\n"
   ]
  },
  {
   "cell_type": "code",
   "execution_count": 15,
   "metadata": {},
   "outputs": [],
   "source": [
    "from sqlalchemy import delete\n",
    "\n",
    "statement = delete(users_table).where(\n",
    "    users_table.c.name == \"Jerry\"\n",
    ")\n",
    "\n",
    "with engine.connect() as conn:\n",
    "    conn.execute(statement)\n",
    "    conn.commit()"
   ]
  },
  {
   "cell_type": "code",
   "execution_count": 16,
   "metadata": {},
   "outputs": [],
   "source": []
  }
 ],
 "metadata": {
  "kernelspec": {
   "display_name": "telecom_analysis",
   "language": "python",
   "name": "python3"
  },
  "language_info": {
   "codemirror_mode": {
    "name": "ipython",
    "version": 3
   },
   "file_extension": ".py",
   "mimetype": "text/x-python",
   "name": "python",
   "nbconvert_exporter": "python",
   "pygments_lexer": "ipython3",
   "version": "3.11.5"
  }
 },
 "nbformat": 4,
 "nbformat_minor": 2
}
